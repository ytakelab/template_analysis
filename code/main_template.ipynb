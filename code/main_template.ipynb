{
 "cells": [
  {
   "cell_type": "code",
   "execution_count": null,
   "metadata": {},
   "outputs": [],
   "source": [
    "# -*- coding: utf-8 -*-"
   ]
  },
  {
   "cell_type": "markdown",
   "metadata": {
    "lines_to_next_cell": 2
   },
   "source": [
    "# main ipython notebook\n",
    "- brief description goes here\n",
    "\n",
    "Copyright (c) 2021 Yuichi Takeuchi"
   ]
  },
  {
   "cell_type": "markdown",
   "metadata": {},
   "source": [
    "## import modules"
   ]
  },
  {
   "cell_type": "code",
   "execution_count": 4,
   "metadata": {},
   "outputs": [],
   "source": [
    "# standard library\n",
    "import sys\n",
    "import pprint"
   ]
  },
  {
   "cell_type": "markdown",
   "metadata": {},
   "source": [
    "## append path and import in-house library"
   ]
  },
  {
   "cell_type": "code",
   "execution_count": 6,
   "metadata": {},
   "outputs": [
    {
     "name": "stdout",
     "output_type": "stream",
     "text": [
      "['c:\\\\Users\\\\Lenovo\\\\Documents\\\\GitHub\\\\template_analysis\\\\code',\n",
      " 'C:\\\\Users\\\\Lenovo\\\\AppData\\\\Local\\\\Programs\\\\Python\\\\Python38\\\\python38.zip',\n",
      " 'C:\\\\Users\\\\Lenovo\\\\AppData\\\\Local\\\\Programs\\\\Python\\\\Python38\\\\DLLs',\n",
      " 'C:\\\\Users\\\\Lenovo\\\\AppData\\\\Local\\\\Programs\\\\Python\\\\Python38\\\\lib',\n",
      " 'C:\\\\Users\\\\Lenovo\\\\AppData\\\\Local\\\\Programs\\\\Python\\\\Python38',\n",
      " 'c:\\\\users\\\\lenovo\\\\jlab38',\n",
      " '',\n",
      " 'c:\\\\users\\\\lenovo\\\\jlab38\\\\lib\\\\site-packages',\n",
      " 'c:\\\\users\\\\lenovo\\\\jlab38\\\\lib\\\\site-packages\\\\win32',\n",
      " 'c:\\\\users\\\\lenovo\\\\jlab38\\\\lib\\\\site-packages\\\\win32\\\\lib',\n",
      " 'c:\\\\users\\\\lenovo\\\\jlab38\\\\lib\\\\site-packages\\\\Pythonwin',\n",
      " 'c:\\\\users\\\\lenovo\\\\jlab38\\\\lib\\\\site-packages\\\\IPython\\\\extensions',\n",
      " 'C:\\\\Users\\\\Lenovo\\\\.ipython',\n",
      " '../code/helper',\n",
      " '../code/lib',\n",
      " '../code/lib/python_utils',\n",
      " '../code/helper',\n",
      " '../code/lib',\n",
      " '../code/lib/python_utils',\n",
      " '../code/helper',\n",
      " '../code/lib',\n",
      " '../code/lib/python_utils']\n"
     ]
    }
   ],
   "source": [
    "sys.path.append(\"../code/helper\")\n",
    "sys.path.append(\"../code/lib\")\n",
    "sys.path.append(\"../code/lib/python_utils\")\n",
    "\n",
    "# in-house library\n",
    "import template_defOnly\n",
    "import template_mainFunc\n",
    "import template_mainScript\n",
    "pprint.pprint(sys.path)"
   ]
  },
  {
   "cell_type": "markdown",
   "metadata": {},
   "source": [
    "## autoreload"
   ]
  },
  {
   "cell_type": "code",
   "execution_count": 4,
   "metadata": {},
   "outputs": [
    {
     "name": "stdout",
     "output_type": "stream",
     "text": [
      "The autoreload extension is already loaded. To reload it, use:\n",
      "  %reload_ext autoreload\n"
     ]
    }
   ],
   "source": [
    "%load_ext autoreload\n",
    "%autoreload 2"
   ]
  },
  {
   "cell_type": "markdown",
   "metadata": {
    "lines_to_next_cell": 2
   },
   "source": [
    "## main"
   ]
  },
  {
   "cell_type": "code",
   "execution_count": 5,
   "metadata": {},
   "outputs": [
    {
     "name": "stdout",
     "output_type": "stream",
     "text": [
      "8 -2\n"
     ]
    }
   ],
   "source": [
    "# excecute main procedure as a script, which possibly returns variables in the\n",
    "# namespace of the host kernel\n",
    "%run lib/template_mainScript"
   ]
  },
  {
   "cell_type": "code",
   "execution_count": 7,
   "metadata": {},
   "outputs": [
    {
     "name": "stdout",
     "output_type": "stream",
     "text": [
      "8 -2\n"
     ]
    }
   ],
   "source": [
    "# excecute main procecure via the main function\n",
    "%run lib/template_mainFunc"
   ]
  },
  {
   "cell_type": "code",
   "execution_count": 6,
   "metadata": {},
   "outputs": [
    {
     "name": "stdout",
     "output_type": "stream",
     "text": [
      "8 -2\n"
     ]
    }
   ],
   "source": [
    "# execute main function as module\n",
    "a, b = template_mainFunc.main()"
   ]
  },
  {
   "cell_type": "code",
   "execution_count": null,
   "metadata": {},
   "outputs": [],
   "source": [
    "del a, b"
   ]
  },
  {
   "cell_type": "markdown",
   "metadata": {},
   "source": []
  },
  {
   "cell_type": "code",
   "execution_count": null,
   "metadata": {},
   "outputs": [],
   "source": []
  }
 ],
 "metadata": {
  "jupytext": {
   "formats": "ipynb,py:percent,md"
  },
  "kernelspec": {
   "display_name": "jlab38",
   "language": "python",
   "name": "jlab38"
  },
  "language_info": {
   "codemirror_mode": {
    "name": "ipython",
    "version": 3
   },
   "file_extension": ".py",
   "mimetype": "text/x-python",
   "name": "python",
   "nbconvert_exporter": "python",
   "pygments_lexer": "ipython3",
   "version": "3.8.6"
  },
  "nteract": {
   "version": "0.23.3"
  }
 },
 "nbformat": 4,
 "nbformat_minor": 4
}
